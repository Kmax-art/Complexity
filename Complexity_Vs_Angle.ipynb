{
 "cells": [
  {
   "cell_type": "code",
   "execution_count": null,
   "id": "6b77e2b9-8be2-46ca-b2c6-c8334c6d9cd3",
   "metadata": {},
   "outputs": [],
   "source": [
    "import numpy as np\n",
    "import matplotlib.pyplot as plt\n",
    "from scipy.linalg import block_diag\n",
    "from numpy import linalg as LA\n",
    "import pandas as pd\n",
    "from scipy import integrate\n",
    "from scipy.linalg import logm, expm\n",
    "from time import time\n",
    "from Complexity_Functions import *"
   ]
  },
  {
   "cell_type": "code",
   "execution_count": null,
   "id": "82754722-7d01-4b2b-84ce-2667a37349e2",
   "metadata": {},
   "outputs": [],
   "source": [
    "θ = (np.pi/24)*np.arange(1,25,1)"
   ]
  },
  {
   "cell_type": "markdown",
   "id": "9106e87c-fdc1-4dec-9390-be8c2142f115",
   "metadata": {},
   "source": [
    "#### 1-local"
   ]
  },
  {
   "cell_type": "code",
   "execution_count": null,
   "id": "c47752e0-09a7-4dc8-85d8-cd4b9314b63a",
   "metadata": {},
   "outputs": [],
   "source": [
    "Time_Span = 100\n",
    "niel_com = np.zeros((Time_Span,len(θ)))\n",
    "sample_size = 500\n",
    "\n",
    "\n",
    "for j in range(len(θ)):\n",
    "    Ψ_CP = DQW(θ[j])\n",
    "    t1 = time()\n",
    "    for i in range(Time_Span):\n",
    "        U12 = SAMPLE_GEN(Ψ_CP[i],Ψ_CP[i+1],sample_size)\n",
    "        niel_com[i,j] = np.real(MIN_COMPLEXITY(U12,1))\n",
    "\n",
    "    t2 = time()\n",
    "    print('\\n')\n",
    "    print('Done. Time Taken :',t2-t1)\n",
    "\n",
    "np.savetxt('niel_com_1local.txt',niel_com)"
   ]
  },
  {
   "cell_type": "markdown",
   "id": "ed1171e6-a9a7-471f-9357-e29a8a52458e",
   "metadata": {},
   "source": [
    "#### 2-local"
   ]
  },
  {
   "cell_type": "code",
   "execution_count": null,
   "id": "28d6836a-c1d1-4f68-9d92-c8650126badd",
   "metadata": {},
   "outputs": [],
   "source": [
    "Time_Span = 100\n",
    "niel_com = np.zeros((Time_Span,len(θ)))\n",
    "sample_size = 500\n",
    "\n",
    "\n",
    "for j in range(len(θ)):\n",
    "    Ψ_CP = DQW(θ[j])\n",
    "    t1 = time()\n",
    "    for i in range(Time_Span):\n",
    "        U12 = SAMPLE_GEN(Ψ_CP[i],Ψ_CP[i+1],sample_size)\n",
    "        niel_com[i,j] = np.real(MIN_COMPLEXITY(U12,2))\n",
    "\n",
    "    t2 = time()\n",
    "    print('\\n')\n",
    "    print('Done. Time Taken :',t2-t1)\n",
    "\n",
    "np.savetxt('niel_com_2local.txt',niel_com)"
   ]
  },
  {
   "cell_type": "markdown",
   "id": "a2db4a9b-5fe2-4a7a-bf28-13c3e4753b2e",
   "metadata": {},
   "source": [
    "#### 3-local"
   ]
  },
  {
   "cell_type": "code",
   "execution_count": null,
   "id": "f90f7fc9-e0a6-48ad-8469-32b9f5659e14",
   "metadata": {},
   "outputs": [],
   "source": [
    "Time_Span = 100\n",
    "niel_com = np.zeros((Time_Span,len(θ)))\n",
    "sample_size = 500\n",
    "\n",
    "\n",
    "for j in range(len(θ)):\n",
    "    Ψ_CP = DQW(θ[j])\n",
    "    t1 = time()\n",
    "    for i in range(Time_Span):\n",
    "        U12 = SAMPLE_GEN(Ψ_CP[i],Ψ_CP[i+1],sample_size)\n",
    "        niel_com[i,j] = np.real(MIN_COMPLEXITY(U12,3))\n",
    "\n",
    "    t2 = time()\n",
    "    print('\\n')\n",
    "    print('Done. Time Taken :',t2-t1)\n",
    "\n",
    "np.savetxt('niel_com_3local.txt',niel_com)"
   ]
  }
 ],
 "metadata": {
  "kernelspec": {
   "display_name": "Python 3 (ipykernel)",
   "language": "python",
   "name": "python3"
  },
  "language_info": {
   "codemirror_mode": {
    "name": "ipython",
    "version": 3
   },
   "file_extension": ".py",
   "mimetype": "text/x-python",
   "name": "python",
   "nbconvert_exporter": "python",
   "pygments_lexer": "ipython3",
   "version": "3.10.9"
  }
 },
 "nbformat": 4,
 "nbformat_minor": 5
}
